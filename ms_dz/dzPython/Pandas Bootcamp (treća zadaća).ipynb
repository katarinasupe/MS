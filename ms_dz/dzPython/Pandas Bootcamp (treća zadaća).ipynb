{
 "cells": [
  {
   "cell_type": "markdown",
   "metadata": {},
   "source": [
    "# Pandas Bootcamp"
   ]
  },
  {
   "cell_type": "markdown",
   "metadata": {},
   "source": [
    "Importanje paketa i učitavanje podataka:"
   ]
  },
  {
   "cell_type": "code",
   "execution_count": 1,
   "metadata": {},
   "outputs": [],
   "source": [
    "import pandas as pd\n",
    "import numpy as np"
   ]
  },
  {
   "cell_type": "code",
   "execution_count": 2,
   "metadata": {},
   "outputs": [],
   "source": [
    "table_1 = pd.read_csv('https://raw.githubusercontent.com/katarinasupe/MS/master/Pandas_Bootcamp.csv')"
   ]
  },
  {
   "cell_type": "markdown",
   "metadata": {},
   "source": [
    "Pogledajmo kako izgleda dio tablice: "
   ]
  },
  {
   "cell_type": "code",
   "execution_count": 15,
   "metadata": {},
   "outputs": [
    {
     "data": {
      "text/html": [
       "<div>\n",
       "<style scoped>\n",
       "    .dataframe tbody tr th:only-of-type {\n",
       "        vertical-align: middle;\n",
       "    }\n",
       "\n",
       "    .dataframe tbody tr th {\n",
       "        vertical-align: top;\n",
       "    }\n",
       "\n",
       "    .dataframe thead th {\n",
       "        text-align: right;\n",
       "    }\n",
       "</style>\n",
       "<table border=\"1\" class=\"dataframe\">\n",
       "  <thead>\n",
       "    <tr style=\"text-align: right;\">\n",
       "      <th></th>\n",
       "      <th>date</th>\n",
       "      <th>num</th>\n",
       "      <th>num2</th>\n",
       "      <th>str</th>\n",
       "      <th>str2</th>\n",
       "    </tr>\n",
       "  </thead>\n",
       "  <tbody>\n",
       "    <tr>\n",
       "      <th>0</th>\n",
       "      <td>2014-02-20</td>\n",
       "      <td>382</td>\n",
       "      <td>880.159693</td>\n",
       "      <td>boy</td>\n",
       "      <td>red</td>\n",
       "    </tr>\n",
       "    <tr>\n",
       "      <th>1</th>\n",
       "      <td>2014-02-20</td>\n",
       "      <td>495</td>\n",
       "      <td>545.127367</td>\n",
       "      <td>girl</td>\n",
       "      <td>yellow</td>\n",
       "    </tr>\n",
       "    <tr>\n",
       "      <th>2</th>\n",
       "      <td>2014-03-01</td>\n",
       "      <td>920</td>\n",
       "      <td>672.390991</td>\n",
       "      <td>girl</td>\n",
       "      <td>red</td>\n",
       "    </tr>\n",
       "    <tr>\n",
       "      <th>3</th>\n",
       "      <td>2014-05-30</td>\n",
       "      <td>646</td>\n",
       "      <td>486.678107</td>\n",
       "      <td>girl</td>\n",
       "      <td>yellow</td>\n",
       "    </tr>\n",
       "    <tr>\n",
       "      <th>4</th>\n",
       "      <td>2014-06-04</td>\n",
       "      <td>125</td>\n",
       "      <td>59.971397</td>\n",
       "      <td>boy</td>\n",
       "      <td>green</td>\n",
       "    </tr>\n",
       "  </tbody>\n",
       "</table>\n",
       "</div>"
      ],
      "text/plain": [
       "         date  num        num2   str    str2\n",
       "0  2014-02-20  382  880.159693   boy     red\n",
       "1  2014-02-20  495  545.127367  girl  yellow\n",
       "2  2014-03-01  920  672.390991  girl     red\n",
       "3  2014-05-30  646  486.678107  girl  yellow\n",
       "4  2014-06-04  125   59.971397   boy   green"
      ]
     },
     "execution_count": 15,
     "metadata": {},
     "output_type": "execute_result"
    }
   ],
   "source": [
    "table_1.head()"
   ]
  },
  {
   "cell_type": "code",
   "execution_count": 4,
   "metadata": {},
   "outputs": [
    {
     "name": "stdout",
     "output_type": "stream",
     "text": [
      "<class 'pandas.core.frame.DataFrame'>\n",
      "RangeIndex: 50 entries, 0 to 49\n",
      "Data columns (total 5 columns):\n",
      " #   Column  Non-Null Count  Dtype  \n",
      "---  ------  --------------  -----  \n",
      " 0   date    50 non-null     object \n",
      " 1   num     50 non-null     int64  \n",
      " 2   num2    50 non-null     float64\n",
      " 3   str     50 non-null     object \n",
      " 4   str2    50 non-null     object \n",
      "dtypes: float64(1), int64(1), object(3)\n",
      "memory usage: 2.1+ KB\n"
     ]
    }
   ],
   "source": [
    "table_1.info()"
   ]
  },
  {
   "cell_type": "markdown",
   "metadata": {},
   "source": [
    "## Zadaci"
   ]
  },
  {
   "cell_type": "markdown",
   "metadata": {},
   "source": [
    "* 1. What is the average of column num2?\n",
    "* 2. Create a new column called \"diff\". This column returns 1 if column num > column num2 and 0 if it does not. What is the sum of column diff?\n",
    "* 3. Find the row with the smallest date. Subtract num - num2.\n",
    "* 4. Group by str and find the sum of column num where the index is boy.\n",
    "* 5. Find the least popular string in column str2. Filter by str2 where the string equals the least popular string. Find the sum of column num.\n",
    "\n",
    "\n",
    "\n",
    "\n"
   ]
  },
  {
   "cell_type": "markdown",
   "metadata": {},
   "source": [
    "## Rješenja"
   ]
  },
  {
   "cell_type": "markdown",
   "metadata": {},
   "source": [
    "### 1. zadatak"
   ]
  },
  {
   "cell_type": "markdown",
   "metadata": {},
   "source": [
    "Izračunaj prosjek stupca *num2*."
   ]
  },
  {
   "cell_type": "markdown",
   "metadata": {},
   "source": [
    "### Rješenje:"
   ]
  },
  {
   "cell_type": "code",
   "execution_count": 5,
   "metadata": {
    "scrolled": false
   },
   "outputs": [
    {
     "data": {
      "text/plain": [
       "457.4645854799998"
      ]
     },
     "execution_count": 5,
     "metadata": {},
     "output_type": "execute_result"
    }
   ],
   "source": [
    "table_1.mean()['num2']"
   ]
  },
  {
   "cell_type": "markdown",
   "metadata": {},
   "source": [
    "### Provjera:"
   ]
  },
  {
   "cell_type": "code",
   "execution_count": 6,
   "metadata": {
    "scrolled": true
   },
   "outputs": [
    {
     "data": {
      "text/html": [
       "<div>\n",
       "<style scoped>\n",
       "    .dataframe tbody tr th:only-of-type {\n",
       "        vertical-align: middle;\n",
       "    }\n",
       "\n",
       "    .dataframe tbody tr th {\n",
       "        vertical-align: top;\n",
       "    }\n",
       "\n",
       "    .dataframe thead th {\n",
       "        text-align: right;\n",
       "    }\n",
       "</style>\n",
       "<table border=\"1\" class=\"dataframe\">\n",
       "  <thead>\n",
       "    <tr style=\"text-align: right;\">\n",
       "      <th></th>\n",
       "      <th>num</th>\n",
       "      <th>num2</th>\n",
       "    </tr>\n",
       "  </thead>\n",
       "  <tbody>\n",
       "    <tr>\n",
       "      <th>count</th>\n",
       "      <td>50.000000</td>\n",
       "      <td>50.000000</td>\n",
       "    </tr>\n",
       "    <tr>\n",
       "      <th>mean</th>\n",
       "      <td>565.920000</td>\n",
       "      <td>457.464585</td>\n",
       "    </tr>\n",
       "    <tr>\n",
       "      <th>std</th>\n",
       "      <td>281.373515</td>\n",
       "      <td>292.466016</td>\n",
       "    </tr>\n",
       "    <tr>\n",
       "      <th>min</th>\n",
       "      <td>0.000000</td>\n",
       "      <td>0.642999</td>\n",
       "    </tr>\n",
       "    <tr>\n",
       "      <th>25%</th>\n",
       "      <td>381.250000</td>\n",
       "      <td>175.979159</td>\n",
       "    </tr>\n",
       "    <tr>\n",
       "      <th>50%</th>\n",
       "      <td>596.500000</td>\n",
       "      <td>487.904471</td>\n",
       "    </tr>\n",
       "    <tr>\n",
       "      <th>75%</th>\n",
       "      <td>794.500000</td>\n",
       "      <td>682.348960</td>\n",
       "    </tr>\n",
       "    <tr>\n",
       "      <th>max</th>\n",
       "      <td>988.000000</td>\n",
       "      <td>999.716608</td>\n",
       "    </tr>\n",
       "  </tbody>\n",
       "</table>\n",
       "</div>"
      ],
      "text/plain": [
       "              num        num2\n",
       "count   50.000000   50.000000\n",
       "mean   565.920000  457.464585\n",
       "std    281.373515  292.466016\n",
       "min      0.000000    0.642999\n",
       "25%    381.250000  175.979159\n",
       "50%    596.500000  487.904471\n",
       "75%    794.500000  682.348960\n",
       "max    988.000000  999.716608"
      ]
     },
     "execution_count": 6,
     "metadata": {},
     "output_type": "execute_result"
    }
   ],
   "source": [
    "table_1.describe()"
   ]
  },
  {
   "cell_type": "markdown",
   "metadata": {},
   "source": [
    "Tablica se po defaultu ispisuje sa 6 decimala. Stoga mi ne vidimo svaki broj s točnom preciznošću. Međutim, kada direktno pristupamo elementu, onda možemo vidjeti kako stvarno izgleda u memoriji. Stoga iz ove tablice idemo provjeriti vrijednost *mean* za *num2*:"
   ]
  },
  {
   "cell_type": "code",
   "execution_count": 7,
   "metadata": {
    "scrolled": true
   },
   "outputs": [
    {
     "data": {
      "text/plain": [
       "457.4645854799998"
      ]
     },
     "execution_count": 7,
     "metadata": {},
     "output_type": "execute_result"
    }
   ],
   "source": [
    "table_1.describe().loc['mean', 'num2']"
   ]
  },
  {
   "cell_type": "markdown",
   "metadata": {},
   "source": [
    "Sada vidimo da smo uistinu dobro riješili. "
   ]
  },
  {
   "cell_type": "markdown",
   "metadata": {},
   "source": [
    "### 2. zadatak\n",
    "Kreiraj novi stupac koji se zove \"diff\". Ovaj stupac vraća $1$ ako je stupac *num* strogo veći od stupca *num2*, $0$ inače. Kolika je suma elemenata stupca *diff*?"
   ]
  },
  {
   "cell_type": "markdown",
   "metadata": {},
   "source": [
    "Kreiranje novog stupca *diff* : \n",
    "`table_1.assign(diff = (np.greater(table_1['num'].to_numpy(),table_1['num2'].to_numpy()))*1)`\n",
    "(množenje s $1$ tako da `boolean` vrijednosti koje vraća funkcija `greater` iz `numpy` library postanu `int`)\n",
    "\n",
    "Napomena: `np.greater(v1, v2)` za svaka dva elementa np.arraya vraća `True` ako je v1 veći od v2, `False` inače.\n",
    "\n",
    "Dohvaćanje stupca *diff* u data frame *table_1* sa `['diff']` te pretvaranje tog stupca u `numpy array` na kojem primijenjujemo funkciju `sum` iz `numpy` libraryja koje će nam dati traženu sumu."
   ]
  },
  {
   "cell_type": "markdown",
   "metadata": {},
   "source": [
    "### Rješenje:"
   ]
  },
  {
   "cell_type": "code",
   "execution_count": 8,
   "metadata": {},
   "outputs": [
    {
     "data": {
      "text/plain": [
       "26"
      ]
     },
     "execution_count": 8,
     "metadata": {},
     "output_type": "execute_result"
    }
   ],
   "source": [
    "np.sum(np.array(table_1.assign(diff = (np.greater(table_1['num'].to_numpy(),table_1['num2'].to_numpy()))*1)['diff']))"
   ]
  },
  {
   "cell_type": "markdown",
   "metadata": {},
   "source": [
    "### Provjera:"
   ]
  },
  {
   "cell_type": "code",
   "execution_count": 9,
   "metadata": {},
   "outputs": [
    {
     "data": {
      "text/plain": [
       "26"
      ]
     },
     "execution_count": 9,
     "metadata": {},
     "output_type": "execute_result"
    }
   ],
   "source": [
    "diff_column = np.greater(table_1['num'].to_numpy(),table_1['num2'].to_numpy())*1 \n",
    "np.count_nonzero(diff_column)"
   ]
  },
  {
   "cell_type": "markdown",
   "metadata": {},
   "source": [
    "### 3. zadatak \n",
    "Pronađi redak s najmanjim datumom te u njemu oduzmi vrijednosti *num* i *num2*."
   ]
  },
  {
   "cell_type": "markdown",
   "metadata": {},
   "source": [
    "### Rješenje (minimalni datum nije jedinstven)"
   ]
  },
  {
   "cell_type": "markdown",
   "metadata": {},
   "source": [
    "Prilikom testiranja desila mi se situacija da je tablica imala dva jednaka minimalna datuma. Što ako imamo više redaka s istim minimalnim datumom? Možemo te vrijednosti dodati u tablicu, kao novi stupac. Nazovimo ga *subtraction*:"
   ]
  },
  {
   "cell_type": "code",
   "execution_count": 10,
   "metadata": {
    "scrolled": true
   },
   "outputs": [
    {
     "data": {
      "text/html": [
       "<div>\n",
       "<style scoped>\n",
       "    .dataframe tbody tr th:only-of-type {\n",
       "        vertical-align: middle;\n",
       "    }\n",
       "\n",
       "    .dataframe tbody tr th {\n",
       "        vertical-align: top;\n",
       "    }\n",
       "\n",
       "    .dataframe thead th {\n",
       "        text-align: right;\n",
       "    }\n",
       "</style>\n",
       "<table border=\"1\" class=\"dataframe\">\n",
       "  <thead>\n",
       "    <tr style=\"text-align: right;\">\n",
       "      <th></th>\n",
       "      <th>date</th>\n",
       "      <th>num</th>\n",
       "      <th>num2</th>\n",
       "      <th>str</th>\n",
       "      <th>str2</th>\n",
       "      <th>subtraction</th>\n",
       "    </tr>\n",
       "  </thead>\n",
       "  <tbody>\n",
       "    <tr>\n",
       "      <th>0</th>\n",
       "      <td>2014-02-20</td>\n",
       "      <td>382</td>\n",
       "      <td>880.159693</td>\n",
       "      <td>boy</td>\n",
       "      <td>red</td>\n",
       "      <td>-498.159693</td>\n",
       "    </tr>\n",
       "    <tr>\n",
       "      <th>1</th>\n",
       "      <td>2014-02-20</td>\n",
       "      <td>495</td>\n",
       "      <td>545.127367</td>\n",
       "      <td>girl</td>\n",
       "      <td>yellow</td>\n",
       "      <td>-50.127367</td>\n",
       "    </tr>\n",
       "  </tbody>\n",
       "</table>\n",
       "</div>"
      ],
      "text/plain": [
       "         date  num        num2   str    str2  subtraction\n",
       "0  2014-02-20  382  880.159693   boy     red  -498.159693\n",
       "1  2014-02-20  495  545.127367  girl  yellow   -50.127367"
      ]
     },
     "execution_count": 10,
     "metadata": {},
     "output_type": "execute_result"
    }
   ],
   "source": [
    "table_1.loc[table_1['date'] == np.amin(np.array(table_1['date']))].assign(subtraction = np.subtract(table_1.loc[table_1['date'] == np.amin(np.array(table_1['date']))]['num'], table_1.loc[table_1['date'] == np.amin(np.array(table_1['date']))]['num2']))"
   ]
  },
  {
   "cell_type": "markdown",
   "metadata": {},
   "source": [
    "Jednostavno možemo ispisati samo tražene vrijednosti. Jedan način je kao DataFrame:"
   ]
  },
  {
   "cell_type": "code",
   "execution_count": 11,
   "metadata": {},
   "outputs": [
    {
     "data": {
      "text/plain": [
       "0   -498.159693\n",
       "1    -50.127367\n",
       "Name: subtraction, dtype: float64"
      ]
     },
     "execution_count": 11,
     "metadata": {},
     "output_type": "execute_result"
    }
   ],
   "source": [
    "table_1.loc[table_1['date'] == np.amin(np.array(table_1['date']))].assign(subtraction = np.subtract(table_1.loc[table_1['date'] == np.amin(np.array(table_1['date']))]['num'], table_1.loc[table_1['date'] == np.amin(np.array(table_1['date']))]['num2']))['subtraction']"
   ]
  },
  {
   "cell_type": "markdown",
   "metadata": {},
   "source": [
    "Drugi način je kao `numpy` array:"
   ]
  },
  {
   "cell_type": "code",
   "execution_count": 12,
   "metadata": {},
   "outputs": [
    {
     "data": {
      "text/plain": [
       "array([-498.159693,  -50.127367])"
      ]
     },
     "execution_count": 12,
     "metadata": {},
     "output_type": "execute_result"
    }
   ],
   "source": [
    "np.array(table_1.loc[table_1['date'] == np.amin(np.array(table_1['date']))].assign(subtraction = np.subtract(table_1.loc[table_1['date'] == np.amin(np.array(table_1['date']))]['num'], table_1.loc[table_1['date'] == np.amin(np.array(table_1['date']))]['num2']))['subtraction'])"
   ]
  },
  {
   "cell_type": "markdown",
   "metadata": {},
   "source": [
    "### 4. zadatak\n",
    "\n",
    "Grupiraj po *str* i izračunaj sumu stupca *num* gdje je index *boy*."
   ]
  },
  {
   "cell_type": "markdown",
   "metadata": {},
   "source": [
    "`table_1.groupby('str').sum()` će zbrojiti elemente svih stupaca i grupirati ih po retcima *boy* i *girl*. Mi želimo samo sumu stupca *num* gdje je index *boy*, stoga koristeći se `loc` pristupamo baš tom elementu tablice, a pomoću `item()` iz `numpy` paketa vraćamo standardni Python skalar.  "
   ]
  },
  {
   "cell_type": "code",
   "execution_count": 13,
   "metadata": {
    "scrolled": true
   },
   "outputs": [
    {
     "data": {
      "text/plain": [
       "14793"
      ]
     },
     "execution_count": 13,
     "metadata": {},
     "output_type": "execute_result"
    }
   ],
   "source": [
    "np.array(table_1.groupby('str').sum().loc[['boy'], ['num']]).item()"
   ]
  },
  {
   "cell_type": "markdown",
   "metadata": {},
   "source": [
    "### 5. zadatak\n",
    "\n",
    "Pronađi najmanje popularan string u stupcu *str2* (onaj koji se najmanje puta pojavljuje). Filtriraj tablicu tako da ostanu podatci kada je *str2* jednak najmanje popularnom stringu. Nađi sumu stupca *num*. "
   ]
  },
  {
   "cell_type": "markdown",
   "metadata": {},
   "source": [
    "### Rješenje\n",
    "\n",
    "Funkcija `value_counts` će nam prebrojati ponavljanja svih jedinstvenih vrijednosti u odabranom stupcu *str2*, a onda će funkcija `idxmin` vratiti vrijednost koja se najmanje puta pojavljuje. Zatim pomoću `loc` filtriramo početnu tablicu tako da ostanu podatci kada je *str2* jednak najmanje popularnom stringu. Za kraj iskoristimo funkciju `sum` te odaberemo stupac *num* da dobijemo traženu vrijednost.  "
   ]
  },
  {
   "cell_type": "code",
   "execution_count": 14,
   "metadata": {},
   "outputs": [
    {
     "data": {
      "text/plain": [
       "3831"
      ]
     },
     "execution_count": 14,
     "metadata": {},
     "output_type": "execute_result"
    }
   ],
   "source": [
    "table_1.loc[table_1['str2'] == table_1['str2'].value_counts().idxmin()].sum()['num']"
   ]
  }
 ],
 "metadata": {
  "kernelspec": {
   "display_name": "Python 3",
   "language": "python",
   "name": "python3"
  },
  "language_info": {
   "codemirror_mode": {
    "name": "ipython",
    "version": 3
   },
   "file_extension": ".py",
   "mimetype": "text/x-python",
   "name": "python",
   "nbconvert_exporter": "python",
   "pygments_lexer": "ipython3",
   "version": "3.7.6"
  }
 },
 "nbformat": 4,
 "nbformat_minor": 4
}
